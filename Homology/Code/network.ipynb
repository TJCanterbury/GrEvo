{
 "metadata": {
  "language_info": {
   "codemirror_mode": {
    "name": "ipython",
    "version": 3
   },
   "file_extension": ".py",
   "mimetype": "text/x-python",
   "name": "python",
   "nbconvert_exporter": "python",
   "pygments_lexer": "ipython3",
   "version": "3.8.5"
  },
  "orig_nbformat": 4,
  "kernelspec": {
   "name": "python3",
   "display_name": "Python 3.8.5 64-bit"
  },
  "interpreter": {
   "hash": "31f2aee4e71d21fbe5cf8b01ff0e069b9275f58929596ceb00d14d90e3e16cd6"
  }
 },
 "nbformat": 4,
 "nbformat_minor": 2,
 "cells": [
  {
   "cell_type": "code",
   "execution_count": 1,
   "metadata": {},
   "outputs": [
    {
     "output_type": "execute_result",
     "data": {
      "text/plain": [
       "NodeDataView({'2': {'Symmetry': 0, 'size': 2, 'tissue_type': 'eye', 'function': 'seeing', 'homolog': 'eye'}, 'L8': {'Symmetry': 1}, 'R8': {'Symmetry': 2}, 'R21': {'Symmetry': 2}, 'R12': {'Symmetry': 2}, 'L21': {'Symmetry': 1}, 'L12': {'Symmetry': 1}, 'L19': {'Symmetry': 1}, '3': {'Symmetry': 0, 'size': 0, 'tissue_type': 'plate', 'function': 'duct', 'homolog': 'duct'}, 'L16': {'Symmetry': 1}, 'body': {'homolog': 'body', 'Symmetry': 0, 'size': 3, 'tissue_type': 'varied', 'function': 'varied'}, 'R16': {'Symmetry': 2}, 'R19': {'Symmetry': 2}})"
      ]
     },
     "metadata": {},
     "execution_count": 1
    }
   ],
   "source": [
    "from Morphlings import Plates\n",
    "G1 = Plates.from_edgelist(\"../NuPond/a.txt\")\n",
    "G2 = Plates.from_edgelist(\"../NuPond/b.txt\")\n",
    "G1.graph['completeness'] = 1\n",
    "G2.graph['completeness'] = 1\n",
    "G1.nodes['body']['homolog'] = \"body\"\n",
    "G2.nodes['body']['homolog'] = \"body\"\n",
    "G1.add_symmetry()\n",
    "G2.add_symmetry()\n",
    "G1.attr_from_csv(\"attributes_a.csv\")\n",
    "G1.nodes(data=True)"
   ]
  },
  {
   "cell_type": "code",
   "execution_count": 147,
   "metadata": {},
   "outputs": [
    {
     "output_type": "stream",
     "name": "stdout",
     "text": [
      "0.5\n"
     ]
    }
   ],
   "source": [
    "node1 = G1.choose_ran_node()\n",
    "node2 = G2.choose_ran_node()\n",
    "N1set = set(G1.nodes[node1])\n",
    "N2set = set(G2.nodes[node2])\n",
    "G2.nodes[node2]\n",
    "pars = 0\n",
    "G2.nodes[node2]['hello'] = 1\n",
    "G1.nodes[node1]['hello'] = 0\n",
    "for i in set(G1.nodes[node1]) | set(G2.nodes[node2]):\n",
    "    pars += G1.nodes[node1][i] != G2.nodes[node2][i]\n",
    "score = pars / len(G1.nodes[node1])\n",
    "print(score)"
   ]
  },
  {
   "cell_type": "code",
   "execution_count": 1,
   "metadata": {},
   "outputs": [
    {
     "output_type": "stream",
     "name": "stdout",
     "text": [
      "{'c': '../Data/G_Datac.txt', 'f': '../Data/G_Dataf.txt', 'e': '../Data/G_Datae.txt', 'a': '../Data/G_Dataa.txt', 'd': '../Data/G_Datad.txt', 'b': '../Data/G_Datab.txt'}\n"
     ]
    }
   ],
   "source": [
    "from Pars_GrEv import find_filenames\n",
    "import os\n",
    "os.listdir(\"../Data/G_Data/\")\n",
    "gs = find_filenames(\"../Data/G_Data/\", \".txt\")\n",
    "print(gs)"
   ]
  },
  {
   "cell_type": "code",
   "execution_count": null,
   "metadata": {},
   "outputs": [],
   "source": []
  }
 ]
}