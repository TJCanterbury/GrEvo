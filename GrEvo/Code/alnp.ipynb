{
 "metadata": {
  "language_info": {
   "codemirror_mode": {
    "name": "ipython",
    "version": 3
   },
   "file_extension": ".py",
   "mimetype": "text/x-python",
   "name": "python",
   "nbconvert_exporter": "python",
   "pygments_lexer": "ipython3",
   "version": "3.8.5"
  },
  "orig_nbformat": 4,
  "kernelspec": {
   "name": "python3",
   "display_name": "Python 3.8.5 64-bit"
  },
  "interpreter": {
   "hash": "31f2aee4e71d21fbe5cf8b01ff0e069b9275f58929596ceb00d14d90e3e16cd6"
  }
 },
 "nbformat": 4,
 "nbformat_minor": 2,
 "cells": [
  {
   "cell_type": "code",
   "execution_count": 2,
   "metadata": {},
   "outputs": [],
   "source": [
    "import numpy as np\n",
    "from numpy import genfromtxt"
   ]
  },
  {
   "cell_type": "code",
   "execution_count": 7,
   "metadata": {},
   "outputs": [],
   "source": [
    "\n",
    "my_data = genfromtxt('aln.csv', delimiter=' ', dtype=str)"
   ]
  },
  {
   "cell_type": "code",
   "execution_count": 8,
   "metadata": {},
   "outputs": [
    {
     "output_type": "execute_result",
     "data": {
      "text/plain": [
       "array([['body', 'body'],\n",
       "       ['3', '5']], dtype='<U4')"
      ]
     },
     "metadata": {},
     "execution_count": 8
    }
   ],
   "source": [
    "my_data"
   ]
  },
  {
   "cell_type": "code",
   "execution_count": 12,
   "metadata": {},
   "outputs": [
    {
     "output_type": "execute_result",
     "data": {
      "text/plain": [
       "'5'"
      ]
     },
     "metadata": {},
     "execution_count": 12
    }
   ],
   "source": [
    "my_data[1][1]"
   ]
  },
  {
   "cell_type": "code",
   "execution_count": 13,
   "metadata": {},
   "outputs": [],
   "source": [
    "\n",
    "my_data = genfromtxt('../NuPond/a.txt', delimiter=' ', dtype=str)"
   ]
  },
  {
   "cell_type": "code",
   "execution_count": 14,
   "metadata": {},
   "outputs": [
    {
     "output_type": "execute_result",
     "data": {
      "text/plain": [
       "array([['2', 'L8'],\n",
       "       ['2', 'R8'],\n",
       "       ['R21', 'R8'],\n",
       "       ['R21', 'R12'],\n",
       "       ['L21', 'L12'],\n",
       "       ['L21', 'L8'],\n",
       "       ['L12', 'L19'],\n",
       "       ['L12', '3'],\n",
       "       ['L12', 'L8'],\n",
       "       ['L12', 'L16'],\n",
       "       ['L19', 'body'],\n",
       "       ['L19', 'L16'],\n",
       "       ['L19', '3'],\n",
       "       ['R8', 'L8'],\n",
       "       ['R8', 'R12'],\n",
       "       ['R8', '3'],\n",
       "       ['L8', '3'],\n",
       "       ['R12', '3'],\n",
       "       ['R12', 'R16'],\n",
       "       ['R12', 'R19'],\n",
       "       ['R19', 'R16'],\n",
       "       ['R19', '3'],\n",
       "       ['R19', 'body'],\n",
       "       ['body', '3']], dtype='<U4')"
      ]
     },
     "metadata": {},
     "execution_count": 14
    }
   ],
   "source": [
    "my_data\n",
    "Nodes = np.unique(my_data)\n"
   ]
  },
  {
   "cell_type": "code",
   "execution_count": 15,
   "metadata": {},
   "outputs": [
    {
     "output_type": "execute_result",
     "data": {
      "text/plain": [
       "array(['2', '3', 'L12', 'L16', 'L19', 'L21', 'L8', 'R12', 'R16', 'R19',\n",
       "       'R21', 'R8', 'body'], dtype='<U4')"
      ]
     },
     "metadata": {},
     "execution_count": 15
    }
   ],
   "source": [
    "Nodes = np.unique(my_data)"
   ]
  },
  {
   "cell_type": "code",
   "execution_count": 22,
   "metadata": {},
   "outputs": [
    {
     "output_type": "stream",
     "name": "stdout",
     "text": [
      "{'body': 'body', '3': '5'}\n{'body': 'body', '5': '3'}\nbody\n"
     ]
    },
    {
     "output_type": "error",
     "ename": "TypeError",
     "evalue": "'dict_items' object is not subscriptable",
     "traceback": [
      "\u001b[0;31m---------------------------------------------------------------------------\u001b[0m",
      "\u001b[0;31mTypeError\u001b[0m                                 Traceback (most recent call last)",
      "\u001b[0;32m<ipython-input-22-fdd8297568c7>\u001b[0m in \u001b[0;36m<module>\u001b[0;34m\u001b[0m\n\u001b[1;32m     13\u001b[0m \u001b[0mfirst_value\u001b[0m \u001b[0;34m=\u001b[0m \u001b[0mnext\u001b[0m\u001b[0;34m(\u001b[0m\u001b[0mvalue_iterator\u001b[0m\u001b[0;34m)\u001b[0m\u001b[0;34m\u001b[0m\u001b[0;34m\u001b[0m\u001b[0m\n\u001b[1;32m     14\u001b[0m \u001b[0mprint\u001b[0m\u001b[0;34m(\u001b[0m\u001b[0mfirst_value\u001b[0m\u001b[0;34m)\u001b[0m\u001b[0;34m\u001b[0m\u001b[0;34m\u001b[0m\u001b[0m\n\u001b[0;32m---> 15\u001b[0;31m \u001b[0md\u001b[0m\u001b[0;34m.\u001b[0m\u001b[0mitems\u001b[0m\u001b[0;34m(\u001b[0m\u001b[0;34m)\u001b[0m\u001b[0;34m[\u001b[0m\u001b[0mfirst_value\u001b[0m\u001b[0;34m]\u001b[0m\u001b[0;34m\u001b[0m\u001b[0;34m\u001b[0m\u001b[0m\n\u001b[0m",
      "\u001b[0;31mTypeError\u001b[0m: 'dict_items' object is not subscriptable"
     ]
    }
   ],
   "source": [
    "import csv\n",
    "reader = csv.reader(open('aln.csv', 'r'), delimiter=' ' )\n",
    "d = {}\n",
    "d2 = {}\n",
    "for row in reader:\n",
    "    k, v = row\n",
    "    d[k] = v\n",
    "    d2[v] = k\n",
    "print(d)\n",
    "print(d2)\n",
    "values_view = d.values()\n",
    "value_iterator = iter(values_view)\n",
    "first_value = next(value_iterator)\n",
    "print(first_value)\n"
   ]
  },
  {
   "cell_type": "code",
   "execution_count": null,
   "metadata": {},
   "outputs": [],
   "source": []
  }
 ]
}